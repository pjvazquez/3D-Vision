{
 "cells": [
  {
   "cell_type": "code",
   "execution_count": 1,
   "metadata": {},
   "outputs": [],
   "source": [
    "%matplotlib inline\n",
    "\n",
    "import numpy as np\n",
    "import matplotlib.pyplot as plt\n",
    "import math\n",
    "import cv2                     # OpenCV library for computer vision\n",
    "from PIL import Image\n",
    "import time "
   ]
  },
  {
   "cell_type": "code",
   "execution_count": null,
   "metadata": {},
   "outputs": [],
   "source": [
    "# wrapper function for face/eye detection with your laptop camera\n",
    "def laptop_camera_go():\n",
    "    # Create instance of video capturer\n",
    "    cv2.namedWindow(\"face detection activated\")\n",
    "    vc = cv2.VideoCapture(0)\n",
    "\n",
    "    # Try to get the first frame\n",
    "    if vc.isOpened(): \n",
    "        rval, frame = vc.read()\n",
    "        print('Camera is opened \\n')\n",
    "    else:\n",
    "        rval = False\n",
    "        print('Camera is closed \\n')\n",
    "    \n",
    "    face_cascade = cv2.CascadeClassifier(\"detector_architectures/haarcascade_frontalface_default.xml\")\n",
    "    eyes_cascade = cv2.CascadeClassifier(\"detector_architectures/haarcascade_eye.xml\")\n",
    "    \n",
    "    # Keep the video stream open\n",
    "    while rval:\n",
    "        gray = cv2.cvtColor(frame, cv2.COLOR_RGB2GRAY)\n",
    "        faces = face_cascade.detectMultiScale(gray, 1.20, 6)\n",
    "        for (x,y,w,h) in faces:\n",
    "            cv2.rectangle(frame, (x,y), (x+w,y+h),(255,0,0), 3)\n",
    "        face_img = None\n",
    "        #search for eyes within the rectangular face regions detected\n",
    "        for (x,y,w,h) in faces:\n",
    "            face_img = gray[y:y+h, x:x+w]\n",
    "            # Detect the eyes in face image\n",
    "            eyes = eye_cascade.detectMultiScale(face_img, 1.2, 8)\n",
    "            for (x_e,y_e,w_e,h_e) in eyes:\n",
    "                cv2.rectangle(frame, \n",
    "                              (x + x_e,y +y_e), \n",
    "                              (x+x_e+w_e,y + y_e + h_e),\n",
    "                              (0,255,0), 3) \n",
    "\n",
    "        # Plot the image from camera with all the face and eye detections marked\n",
    "        cv2.imshow(\"face detection activated\", frame)\n",
    "        \n",
    "        # Press 'q' key to exit laptop video\n",
    "        if cv2.waitKey(1) & 0xFF == ord('q'): # Exit by pressing q key\n",
    "            # Destroy windows\n",
    "            cv2.destroyAllWindows()\n",
    "            \n",
    "            for i in range (1,5):\n",
    "                cv2.waitKey(1)\n",
    "            return\n",
    "            break\n",
    "\n",
    "        \n",
    "        # Read next frame\n",
    "        time.sleep(0.05)             # control framerate for computation - default 20 frames per sec\n",
    "        rval, frame = vc.read()    "
   ]
  },
  {
   "cell_type": "code",
   "execution_count": 2,
   "metadata": {},
   "outputs": [],
   "source": [
    "# wrapper function for image capturing from camera\n",
    "def laptop_camera_go():\n",
    "    # Create instance of video capturer\n",
    "    cv2.namedWindow(\"face detection activated\")\n",
    "    vc = cv2.VideoCapture(0)\n",
    "    kernel = np.ones((3,3),np.uint8)\n",
    "\n",
    "    # Try to get the first frame\n",
    "    if vc.isOpened(): \n",
    "        rval, frame = vc.read()\n",
    "        oldgray = None\n",
    "        print('Camera is opened \\n')\n",
    "    else:\n",
    "        rval = False\n",
    "        print('Camera is closed \\n')\n",
    "    \n",
    "    # Keep the video stream open\n",
    "    while rval:\n",
    "        gray = cv2.cvtColor(frame, cv2.COLOR_RGB2GRAY)\n",
    "        \n",
    "        # gray = cv2.resize(gray, (240,320) )\n",
    "\n",
    "        # Plot the image from camera with all the face and eye detections marked\n",
    "        cv2.imshow(\"captured image\", gray)\n",
    "        \n",
    "\n",
    "        if oldgray is not None:\n",
    "            substracted_image = oldgray - gray\n",
    "            cv2.imshow(\"Frame diff\", substracted_image)\n",
    "            transf_substracted_image = cv2.morphologyEx(substracted_image, cv2.MORPH_OPEN, kernel)\n",
    "            cv2.imshow(\"OPEN filter transf image\", transf_substracted_image)\n",
    "            \n",
    "\n",
    "        # Press 'q' key to exit laptop video\n",
    "        if cv2.waitKey(1) & 0xFF == ord('q'): # Exit by pressing q key\n",
    "            # Destroy windows\n",
    "            cv2.destroyAllWindows()\n",
    "            \n",
    "            for i in range (1,5):\n",
    "                cv2.waitKey(1)\n",
    "            return\n",
    "            break\n",
    "        \n",
    "        # Read next frame\n",
    "        # control framerate for computation - default 20 frames per sec\n",
    "        time.sleep(0.05)\n",
    "        oldgray = gray\n",
    "        rval, frame = vc.read()"
   ]
  },
  {
   "cell_type": "code",
   "execution_count": 3,
   "metadata": {},
   "outputs": [
    {
     "name": "stdout",
     "output_type": "stream",
     "text": [
      "Camera is opened \n",
      "\n"
     ]
    }
   ],
   "source": [
    "# Call the laptop camera face/eye detector function above\n",
    "laptop_camera_go()"
   ]
  },
  {
   "cell_type": "code",
   "execution_count": null,
   "metadata": {},
   "outputs": [],
   "source": []
  }
 ],
 "metadata": {
  "kernelspec": {
   "display_name": "Python 3",
   "language": "python",
   "name": "python3"
  },
  "language_info": {
   "codemirror_mode": {
    "name": "ipython",
    "version": 3
   },
   "file_extension": ".py",
   "mimetype": "text/x-python",
   "name": "python",
   "nbconvert_exporter": "python",
   "pygments_lexer": "ipython3",
   "version": "3.7.1"
  }
 },
 "nbformat": 4,
 "nbformat_minor": 2
}
