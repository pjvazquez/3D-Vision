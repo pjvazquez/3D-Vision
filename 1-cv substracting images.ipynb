{
 "cells": [
  {
   "cell_type": "code",
   "execution_count": 1,
   "metadata": {},
   "outputs": [],
   "source": [
    "%matplotlib inline\n",
    "\n",
    "import numpy as np\n",
    "import matplotlib.pyplot as plt\n",
    "import math\n",
    "import cv2                     # OpenCV library for computer vision\n",
    "from PIL import Image\n",
    "import time "
   ]
  },
  {
   "cell_type": "code",
   "execution_count": 6,
   "metadata": {},
   "outputs": [],
   "source": [
    "# wrapper function for image capturing from camera\n",
    "def laptop_camera_go():\n",
    "    # Create instance of video capturer\n",
    "    cv2.namedWindow(\"face detection activated\")\n",
    "    vc = cv2.VideoCapture(0)\n",
    "    kernel = np.ones((3,3),np.uint8)\n",
    "\n",
    "    # Try to get the first frame\n",
    "    if vc.isOpened(): \n",
    "        rval, frame = vc.read()\n",
    "        oldgray = None\n",
    "        print('Camera is opened \\n')\n",
    "    else:\n",
    "        rval = False\n",
    "        print('Camera is closed \\n')\n",
    "    \n",
    "    # Keep the video stream open\n",
    "    while rval:\n",
    "        gray = cv2.cvtColor(frame, cv2.COLOR_RGB2GRAY)\n",
    "        \n",
    "        # gray = cv2.resize(gray, (240,320) )\n",
    "\n",
    "        # Plot the image from camera with all the face and eye detections marked\n",
    "        cv2.imshow(\"captured image\", gray)\n",
    "        \n",
    "\n",
    "        if oldgray is not None:\n",
    "            substracted_image = oldgray - gray\n",
    "            cv2.imshow(\"Frame diff\", substracted_image)\n",
    "            transf_substracted_image = cv2.GaussianBlurring(substracted_image, (5,5),0 )\n",
    "            cv2.imshow(\"OPEN filter transf image\", transf_substracted_image)\n",
    "            \n",
    "\n",
    "        # Press 'q' key to exit laptop video\n",
    "        if cv2.waitKey(1) & 0xFF == ord('q'): # Exit by pressing q key\n",
    "            # Destroy windows\n",
    "            cv2.destroyAllWindows()\n",
    "            \n",
    "            for i in range (1,5):\n",
    "                cv2.waitKey(1)\n",
    "            return\n",
    "            break\n",
    "        \n",
    "        # Read next frame\n",
    "        # control framerate for computation - default 20 frames per sec\n",
    "        time.sleep(0.05)\n",
    "        oldgray = gray\n",
    "        rval, frame = vc.read()"
   ]
  },
  {
   "cell_type": "code",
   "execution_count": 7,
   "metadata": {},
   "outputs": [
    {
     "name": "stdout",
     "output_type": "stream",
     "text": [
      "Camera is opened \n",
      "\n"
     ]
    },
    {
     "ename": "AttributeError",
     "evalue": "module 'cv2.cv2' has no attribute 'GaussianBlurring'",
     "output_type": "error",
     "traceback": [
      "\u001b[0;31m---------------------------------------------------------------------------\u001b[0m",
      "\u001b[0;31mAttributeError\u001b[0m                            Traceback (most recent call last)",
      "\u001b[0;32m<ipython-input-7-0144377e03a2>\u001b[0m in \u001b[0;36m<module>\u001b[0;34m\u001b[0m\n\u001b[1;32m      1\u001b[0m \u001b[0;31m# Call the laptop camera face/eye detector function above\u001b[0m\u001b[0;34m\u001b[0m\u001b[0;34m\u001b[0m\u001b[0;34m\u001b[0m\u001b[0m\n\u001b[0;32m----> 2\u001b[0;31m \u001b[0mlaptop_camera_go\u001b[0m\u001b[0;34m(\u001b[0m\u001b[0;34m)\u001b[0m\u001b[0;34m\u001b[0m\u001b[0;34m\u001b[0m\u001b[0m\n\u001b[0m",
      "\u001b[0;32m<ipython-input-6-15ca91c1e6be>\u001b[0m in \u001b[0;36mlaptop_camera_go\u001b[0;34m()\u001b[0m\n\u001b[1;32m     28\u001b[0m             \u001b[0msubstracted_image\u001b[0m \u001b[0;34m=\u001b[0m \u001b[0moldgray\u001b[0m \u001b[0;34m-\u001b[0m \u001b[0mgray\u001b[0m\u001b[0;34m\u001b[0m\u001b[0;34m\u001b[0m\u001b[0m\n\u001b[1;32m     29\u001b[0m             \u001b[0mcv2\u001b[0m\u001b[0;34m.\u001b[0m\u001b[0mimshow\u001b[0m\u001b[0;34m(\u001b[0m\u001b[0;34m\"Frame diff\"\u001b[0m\u001b[0;34m,\u001b[0m \u001b[0msubstracted_image\u001b[0m\u001b[0;34m)\u001b[0m\u001b[0;34m\u001b[0m\u001b[0;34m\u001b[0m\u001b[0m\n\u001b[0;32m---> 30\u001b[0;31m             \u001b[0mtransf_substracted_image\u001b[0m \u001b[0;34m=\u001b[0m \u001b[0mcv2\u001b[0m\u001b[0;34m.\u001b[0m\u001b[0mGaussianBlurring\u001b[0m\u001b[0;34m(\u001b[0m\u001b[0msubstracted_image\u001b[0m\u001b[0;34m,\u001b[0m \u001b[0;34m(\u001b[0m\u001b[0;36m5\u001b[0m\u001b[0;34m,\u001b[0m\u001b[0;36m5\u001b[0m\u001b[0;34m)\u001b[0m\u001b[0;34m,\u001b[0m\u001b[0;36m0\u001b[0m \u001b[0;34m)\u001b[0m\u001b[0;34m\u001b[0m\u001b[0;34m\u001b[0m\u001b[0m\n\u001b[0m\u001b[1;32m     31\u001b[0m             \u001b[0mcv2\u001b[0m\u001b[0;34m.\u001b[0m\u001b[0mimshow\u001b[0m\u001b[0;34m(\u001b[0m\u001b[0;34m\"OPEN filter transf image\"\u001b[0m\u001b[0;34m,\u001b[0m \u001b[0mtransf_substracted_image\u001b[0m\u001b[0;34m)\u001b[0m\u001b[0;34m\u001b[0m\u001b[0;34m\u001b[0m\u001b[0m\n\u001b[1;32m     32\u001b[0m \u001b[0;34m\u001b[0m\u001b[0m\n",
      "\u001b[0;31mAttributeError\u001b[0m: module 'cv2.cv2' has no attribute 'GaussianBlurring'"
     ]
    }
   ],
   "source": [
    "# Call the laptop camera face/eye detector function above\n",
    "laptop_camera_go()"
   ]
  },
  {
   "cell_type": "code",
   "execution_count": null,
   "metadata": {},
   "outputs": [],
   "source": []
  }
 ],
 "metadata": {
  "kernelspec": {
   "display_name": "Python 3",
   "language": "python",
   "name": "python3"
  },
  "language_info": {
   "codemirror_mode": {
    "name": "ipython",
    "version": 3
   },
   "file_extension": ".py",
   "mimetype": "text/x-python",
   "name": "python",
   "nbconvert_exporter": "python",
   "pygments_lexer": "ipython3",
   "version": "3.7.1"
  }
 },
 "nbformat": 4,
 "nbformat_minor": 2
}
